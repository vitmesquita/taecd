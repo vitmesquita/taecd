{
 "cells": [
  {
   "cell_type": "markdown",
   "id": "f252ad2f",
   "metadata": {},
   "source": [
    "A2 de TAECD"
   ]
  },
  {
   "cell_type": "markdown",
   "id": "22fcc0c6",
   "metadata": {},
   "source": [
    "# Questão 1"
   ]
  },
  {
   "cell_type": "code",
   "execution_count": 58,
   "id": "1da2ded6",
   "metadata": {
    "ExecuteTime": {
     "end_time": "2021-06-20T18:38:23.980537Z",
     "start_time": "2021-06-20T18:38:23.948637Z"
    }
   },
   "outputs": [],
   "source": [
    "# imports\n",
    "import numpy as np\n",
    "import pandas as pd\n",
    "import matplotlib.pyplot as plt\n",
    "import seaborn as sns\n",
    "from sklearn.model_selection import train_test_split\n",
    "from sklearn.metrics import accuracy_score, roc_auc_score, precision_recall_curve, auc, confusion_matrix\n",
    "\n",
    "from tqdm.notebook import tqdm\n",
    "\n",
    "# leitura dos dados\n",
    "dataset = pd.read_csv('Part 1.tsv',sep='\\t')\n",
    "# dataset legivel pelo sklearn\n",
    "X = dataset.drop('label',axis=1).values\n",
    "y = dataset['label'].values\n",
    "\n",
    "# split treino e teste\n",
    "X_train, X_test, y_train, y_test = train_test_split(X, y, train_size=.7)"
   ]
  },
  {
   "cell_type": "code",
   "execution_count": 59,
   "id": "001f7c51",
   "metadata": {
    "ExecuteTime": {
     "end_time": "2021-06-20T18:38:24.695542Z",
     "start_time": "2021-06-20T18:38:24.672601Z"
    }
   },
   "outputs": [],
   "source": [
    "def sigmoid(z):\n",
    "    return 1 / (1+np.exp(-z))\n",
    "\n",
    "def sigmoid_derivative(output):\n",
    "    return output * (1.0 - output)\n",
    "\n",
    "def tanh_derivative(output):\n",
    "    return 1 - output**2\n",
    "\n",
    "def cost_function(y, y_hat):\n",
    "    return -(y*(np.log(y_hat)) + (1 - y)*np.log(1 - y_hat))\n",
    "\n",
    "def cost_gradient(y, y_hat):\n",
    "    return -(y / y_hat) + (1.0 - y) /  (1.0 - y_hat)\n",
    "\n",
    "class MyNeuralNetwork:\n",
    "    \n",
    "    def __init__(self, learning_rate : float = 1e-3):\n",
    "        # inicializar parametros\n",
    "        self.W1 = np.random.normal(0,1,2+1)\n",
    "        self.W2 = np.random.normal(0,1,3+1)\n",
    "        self.lr = learning_rate\n",
    "        self.steps = []\n",
    "        self.W1_updates = []\n",
    "        self.W2_updates = []\n",
    "        self.costs = []\n",
    "        \n",
    "    def forward(self, x : np.array):\n",
    "        # passo forward\n",
    "        I1 = np.concatenate([x[:2],[1]])\n",
    "        A1 = I1.dot(self.W1.T)\n",
    "        O1 = np.tanh(A1)\n",
    "        \n",
    "        I2 = np.concatenate([[O1],x[2:],[1]])\n",
    "        A2 = I2.dot(self.W2.T)\n",
    "        O2 = sigmoid(A2)\n",
    "        \n",
    "        # salvar valores para backpropagation\n",
    "        self.steps.append((I1,I2,A1,A2,O1,O2))\n",
    "        \n",
    "        return O2\n",
    "    \n",
    "    def backpropagation(self, y, yhat):\n",
    "        \n",
    "        (I1,I2,A1,A2,O1,O2) = self.steps.pop(0)\n",
    "        \n",
    "        # derivada do erro no layer 2\n",
    "        dE_dO2 = cost_gradient(y,yhat)\n",
    "        dE_dA2 = dE_dO2 * sigmoid_derivative(O2)\n",
    "        dE_dW2 = dE_dA2 * I2\n",
    "        # derivada do erro no layer 1\n",
    "        dE_dO1 = dE_dO2 * sigmoid_derivative(O1)\n",
    "        dE_dA1 = dE_dO1 * tanh_derivative(O1)\n",
    "        dE_dW1 = dE_dA1 * I1\n",
    "        # update weights\n",
    "        self.W1 -= dE_dW1 * self.lr\n",
    "        self.W2 -= dE_dW2 * self.lr\n",
    "        \n",
    "        return (dE_dW1,dE_dW2)\n",
    "        \n",
    "    def predict(self, X):\n",
    "        return np.array([self.forward(x) for x in X])\n",
    "    \n",
    "    def predict_class(self, X, treshold : float = .5):\n",
    "        return (self.predict(X) > treshold).astype(int)\n",
    "    \n",
    "    def train(self, X, y):\n",
    "        yhat = self.predict(X)\n",
    "        weights_update = []\n",
    "        costs = []\n",
    "        for (y_,yhat_) in zip(y,yhat):\n",
    "            weights_update.append(self.backpropagation(y_,yhat_))\n",
    "            costs.append(cost_function(y_,yhat_))\n",
    "            \n",
    "        return weights_update, costs\n",
    "    \n",
    "    def fit(self, X, y, epochs:int=20):\n",
    "        \n",
    "        for epoch in tqdm(range(epochs),desc='Treinando a rede'):\n",
    "            updates, costs = self.train(X,y)\n",
    "            \n",
    "            uw1 = 0\n",
    "            uw2 = 0\n",
    "            avg_cost = np.mean(costs)\n",
    "            \n",
    "            for u1,u2 in updates:\n",
    "                uw1 += u1.mean()\n",
    "                uw2 += u2.mean()\n",
    "            \n",
    "            self.W1_updates.append(uw1)\n",
    "            self.W2_updates.append(uw2)\n",
    "            self.costs.append(avg_cost)\n",
    "            \n",
    "    def plot_error(self):\n",
    "        sns.lineplot(data=self.costs)\n",
    "        plt.show()\n",
    "            \n",
    "    def evaluate(self, X, y):\n",
    "        # previsao de classes\n",
    "        yhat = self.predict(X)\n",
    "        yhat_class = self.predict_class(X)\n",
    "        # acuracia\n",
    "        acc = accuracy_score(y,yhat_class)\n",
    "        #auc pr\n",
    "        precision, recall, tresholds = precision_recall_curve(y,yhat)\n",
    "        curve  = np.array(sorted(list(zip(recall,precision))))\n",
    "        auc_pr = auc(curve[:,0],curve[:,1])\n",
    "        # auc roc\n",
    "        auc_roc = roc_auc_score(y,yhat)\n",
    "        # matriz de confusao\n",
    "        cm = confusion_matrix(y,yhat_class)\n",
    "        \n",
    "        print('''\n",
    "        Accuracy: {}\n",
    "        AUC-PR  : {}\n",
    "        AUC-ROC : {}\n",
    "        \n",
    "        Confusion Matrix:\n",
    "        {}\n",
    "        {}\n",
    "        '''.format(\n",
    "            np.round(acc,2),\n",
    "            np.round(auc_pr,2),\n",
    "            np.round(auc_roc,2),\n",
    "            cm[0],cm[1]\n",
    "        ))"
   ]
  },
  {
   "cell_type": "code",
   "execution_count": 60,
   "id": "d1bc3de0",
   "metadata": {
    "ExecuteTime": {
     "end_time": "2021-06-20T18:38:32.806793Z",
     "start_time": "2021-06-20T18:38:24.862224Z"
    }
   },
   "outputs": [
    {
     "data": {
      "application/vnd.jupyter.widget-view+json": {
       "model_id": "136710b99c0641689aeb454473450a61",
       "version_major": 2,
       "version_minor": 0
      },
      "text/plain": [
       "Treinando a rede:   0%|          | 0/30 [00:00<?, ?it/s]"
      ]
     },
     "metadata": {},
     "output_type": "display_data"
    },
    {
     "name": "stdout",
     "output_type": "stream",
     "text": [
      "\n",
      "        Accuracy: 0.82\n",
      "        AUC-PR  : 0.88\n",
      "        AUC-ROC : 0.89\n",
      "        \n",
      "        Confusion Matrix:\n",
      "        [2802  708]\n",
      "        [ 560 2930]\n",
      "        \n"
     ]
    },
    {
     "data": {
      "image/png": "[encoded data removed]",
      "text/plain": [
       "<Figure size 432x288 with 1 Axes>"
      ]
     },
     "metadata": {
      "needs_background": "light"
     },
     "output_type": "display_data"
    }
   ],
   "source": [
    "nn = MyNeuralNetwork(learning_rate=1e-4)\n",
    "nn.fit(X_train,y_train,epochs=30)\n",
    "nn.evaluate(X_train,y_train)\n",
    "nn.plot_error()"
   ]
  },
  {
   "cell_type": "markdown",
   "id": "be656e11",
   "metadata": {},
   "source": [
    "# Questão 2"
   ]
  },
  {
   "cell_type": "code",
   "execution_count": 395,
   "id": "2f2cd722",
   "metadata": {
    "ExecuteTime": {
     "end_time": "2021-06-20T22:15:48.345172Z",
     "start_time": "2021-06-20T22:15:47.985349Z"
    }
   },
   "outputs": [],
   "source": [
    "# imports\n",
    "import numpy as np\n",
    "import pandas as pd\n",
    "import matplotlib.pyplot as plt\n",
    "import seaborn as sns\n",
    "from sklearn.model_selection import train_test_split\n",
    "from sklearn.metrics import accuracy_score, roc_auc_score, precision_recall_curve, auc, confusion_matrix\n",
    "\n",
    "from tqdm.notebook import tqdm\n",
    "\n",
    "np.random.seed(0)\n",
    "pd.set_option('max.columns',500)\n",
    "\n",
    "# leitura dos dados - vamos fazer a leitura de dois arquivos: adult.data e adult.test\n",
    "# assim teremos o mesmo número de registros do dado como descrito no site fonte\n",
    "dataset1 = pd.read_csv('adult.data',sep=',',header=None)\n",
    "dataset2 = pd.read_csv('adult.test',sep=',',skiprows=1,header=None,)\n",
    "\n",
    "dataset = pd.concat([dataset1,dataset2],axis=0)\n",
    "dataset.columns = [\n",
    "    'age','workclass','fnlwgt','education','education-num','marital-status',\n",
    "    'occupation','relationship','race','sex','capital-gain','capital-loss','hours-per-week',\n",
    "    'native-country','label'\n",
    "]\n",
    "\n",
    "# colunas numericas\n",
    "num_cols = ['age','fnlwgt','education-num','capital-gain','capital-loss','hours-per-week']\n",
    "# colunas categoricas\n",
    "cat_cols = ['workclass','education','marital-status','occupation','relationship','race','sex','native-country']\n",
    "# variavel objetivo\n",
    "label = 'label'\n",
    "# dataset legivel pelo sklearn\n",
    "X = pd.get_dummies(dataset.drop('label',axis=1),columns=cat_cols,drop_first=True).values\n",
    "y = (dataset['label'].str.contains('>50K')).astype(int).values\n",
    "\n",
    "# split treino e teste\n",
    "X_train, X_test, y_train, y_test = train_test_split(X, y, train_size=.7)"
   ]
  },
  {
   "cell_type": "code",
   "execution_count": 396,
   "id": "f698205d",
   "metadata": {
    "ExecuteTime": {
     "end_time": "2021-06-20T22:15:48.787958Z",
     "start_time": "2021-06-20T22:15:48.753534Z"
    }
   },
   "outputs": [],
   "source": [
    "def gini(x):\n",
    "    classes = np.unique(x)\n",
    "    N = len(x)\n",
    "    gini_score = 0\n",
    "    for cl in classes:\n",
    "        prob = (x==cl).mean()\n",
    "        gini_score += prob*(1-prob)\n",
    "    return gini_score\n",
    "\n",
    "\n",
    "def recursive_growth(node, min_samples, max_depth, current_depth, X, y, n_features):\n",
    "    if 'low_region' in node.keys():\n",
    "        lo = node['low_region']\n",
    "        hi = node['high_region']\n",
    "        \n",
    "        # process left\n",
    "        classes, counts = np.unique(y[lo], return_counts=True)\n",
    "        if (len(lo) < min_samples) or (current_depth == max_depth) or (len(classes) == 1):\n",
    "            if len(lo) > 0:\n",
    "                node['left'] = {'class':classes[np.argmax(counts)]}\n",
    "        else:\n",
    "            node['left'] = DecisionTreeClassifier.get_best_split(X[lo], y[lo], n_features)\n",
    "            recursive_growth(node['left'], min_samples, max_depth, current_depth + 1, X, y, n_features)\n",
    "\n",
    "        # process right\n",
    "        classes, counts = np.unique(y[hi], return_counts=True)\n",
    "        if (len(hi) < min_samples) or (current_depth == max_depth) or (len(classes) == 1):\n",
    "            if len(hi) > 0:\n",
    "                node['right'] = {'class':classes[np.argmax(counts)]}\n",
    "        else:\n",
    "            node['right'] = DecisionTreeClassifier.get_best_split(X[hi], y[hi], n_features)\n",
    "            recursive_growth(node['right'], min_samples, max_depth, current_depth + 1, X, y, n_features)\n",
    "\n",
    "class DecisionTreeClassifier:\n",
    "    \n",
    "    def __init__(self, max_depth=None, min_samples:int=2, n_features=None):\n",
    "        # inicializa parametros\n",
    "        self.max_depth = max_depth\n",
    "        self.min_samples = min_samples\n",
    "        self.tree = None\n",
    "        self.n_features = n_features\n",
    "        \n",
    "    @staticmethod\n",
    "    def create_split(X, feature, treshold):\n",
    "        return np.where(X[:,feature]<treshold)[0],np.where(X[:,feature]>=treshold)[0]\n",
    "        \n",
    "    @staticmethod\n",
    "    def get_best_split(X,y,n_features=None):\n",
    "        best_gini = 100\n",
    "        best_feature = None\n",
    "        best_treshold = None\n",
    "        best_l = None\n",
    "        best_h = None\n",
    "        # iterar nas features\n",
    "        n_features = X.shape[1] if n_features is None else n_features\n",
    "        for feat in np.random.choice(range(X.shape[1]),n_features,replace=False):\n",
    "            # iterar nos valores unicos\n",
    "            for treshold in np.unique(X[:, feat]):\n",
    "                l, h = DecisionTreeClassifier.create_split(X, feat, treshold)\n",
    "                gini_score = gini(y[l]) + gini(y[h])\n",
    "                \n",
    "                if gini_score < best_gini:\n",
    "                    best_gini = gini_score\n",
    "                    best_feature = feat\n",
    "                    best_treshold = treshold\n",
    "                    best_l = l\n",
    "                    best_h = h\n",
    "        return {\n",
    "            'feature': best_feature,\n",
    "            'treshold': best_treshold,\n",
    "            'low_region' : best_l,\n",
    "            'high_region' : best_h,\n",
    "        }\n",
    "    \n",
    "    def fit(self, X, y):\n",
    "        self.tree = self.get_best_split(X,y,self.n_features)\n",
    "        recursive_growth(\n",
    "            self.tree,\n",
    "            self.min_samples,\n",
    "            self.max_depth,\n",
    "            1, X, y, self.n_features\n",
    "        )\n",
    "    \n",
    "    @staticmethod\n",
    "    def predict_sample(node, sample):\n",
    "        if 'class' in node.keys():\n",
    "            return node['class']\n",
    "        \n",
    "        # left node\n",
    "        elif sample[node['feature']] < node['treshold']:\n",
    "            # testar se existe o left node (não foi cortado)\n",
    "            if node.get('left'):\n",
    "                return DecisionTreeClassifier.predict_sample(node['left'], sample)\n",
    "            else:\n",
    "                return DecisionTreeClassifier.predict_sample(node['right'], sample)\n",
    "        \n",
    "        # right node\n",
    "        else:\n",
    "            # testar se existe o right node (não foi cortado)\n",
    "            if node.get('right'):\n",
    "                return DecisionTreeClassifier.predict_sample(node['right'], sample)\n",
    "            else:\n",
    "                return DecisionTreeClassifier.predict_sample(node['left'], sample)\n",
    "        \n",
    "    def predict(self, X):\n",
    "        return np.array([DecisionTreeClassifier.predict_sample(self.tree, x) for x in X])"
   ]
  },
  {
   "cell_type": "code",
   "execution_count": 397,
   "id": "c1f2eaa0",
   "metadata": {
    "ExecuteTime": {
     "end_time": "2021-06-20T22:15:49.449030Z",
     "start_time": "2021-06-20T22:15:49.434170Z"
    }
   },
   "outputs": [],
   "source": [
    "class BaggedTreesClassifier:\n",
    "    \n",
    "    def __init__(self, B:int=10, max_depth=None, min_samples:int=1):\n",
    "        self.B = B\n",
    "        self.max_depth = max_depth\n",
    "        self.min_samples = min_samples\n",
    "        \n",
    "        self.trees = [DecisionTreeClassifier(max_depth,min_samples) for _ in range(self.B)]\n",
    "        \n",
    "    def fit(self, X, y):\n",
    "        sample_size = int(len(X) / self.B)\n",
    "        for tree_ind in tqdm(range(self.B),desc='Treinando árvores de decisão'):\n",
    "            data_sample = np.random.choice(np.array(range(len(X))),sample_size,replace=True)\n",
    "            self.trees[tree_ind].fit(X[data_sample],y[data_sample])\n",
    "            \n",
    "    def predict_proba(self, X):\n",
    "        predictions = [tree.predict(X) for tree in self.trees]\n",
    "        return np.array(predictions).mean(axis=0)\n",
    "    \n",
    "    def predict(self, X):\n",
    "        probas = self.predict_proba(X)\n",
    "        return (probas>=.5).astype(int)"
   ]
  },
  {
   "cell_type": "code",
   "execution_count": 398,
   "id": "09549905",
   "metadata": {
    "ExecuteTime": {
     "end_time": "2021-06-20T22:16:33.834518Z",
     "start_time": "2021-06-20T22:15:53.629995Z"
    }
   },
   "outputs": [
    {
     "data": {
      "application/vnd.jupyter.widget-view+json": {
       "model_id": "d09e84ab655744be8074ea626d738e5d",
       "version_major": 2,
       "version_minor": 0
      },
      "text/plain": [
       "Treinando árvores de decisão:   0%|          | 0/10 [00:00<?, ?it/s]"
      ]
     },
     "metadata": {},
     "output_type": "display_data"
    }
   ],
   "source": [
    "bag_model = BaggedTreesClassifier(B=10,max_depth=6,min_samples=100)\n",
    "bag_model.fit(X_train,y_train)"
   ]
  },
  {
   "cell_type": "code",
   "execution_count": 394,
   "id": "2395e319",
   "metadata": {
    "ExecuteTime": {
     "end_time": "2021-06-20T22:15:36.423134Z",
     "start_time": "2021-06-20T22:15:35.771035Z"
    }
   },
   "outputs": [
    {
     "data": {
      "text/plain": [
       "(array([0, 1]), array([14055,   598], dtype=int64))"
      ]
     },
     "execution_count": 394,
     "metadata": {},
     "output_type": "execute_result"
    }
   ],
   "source": [
    "np.unique(bag_model.predict(X_test),return_counts=1)"
   ]
  },
  {
   "cell_type": "markdown",
   "id": "9a82d9b2",
   "metadata": {},
   "source": [
    "# Questão 3"
   ]
  },
  {
   "cell_type": "code",
   "execution_count": 404,
   "id": "e3515916",
   "metadata": {
    "ExecuteTime": {
     "end_time": "2021-06-20T22:20:39.790950Z",
     "start_time": "2021-06-20T22:20:39.776897Z"
    }
   },
   "outputs": [],
   "source": [
    "class RandomForestClassifier:\n",
    "    \n",
    "    def __init__(self, m:int=None, n_trees:int=10, max_depth=None, min_samples:int=1):\n",
    "        self.n_trees = n_trees\n",
    "        self.max_depth = max_depth\n",
    "        self.min_samples = min_samples\n",
    "        \n",
    "        self.trees = [DecisionTreeClassifier(max_depth,min_samples,m) for _ in range(self.n_trees)]\n",
    "        \n",
    "    def fit(self, X, y):\n",
    "        sample_size = int(len(X) / self.n_trees)\n",
    "        for tree_ind in tqdm(range(self.n_trees),desc='Treinando árvores de decisão'):\n",
    "            data_sample = np.random.choice(np.array(range(len(X))),sample_size,replace=True)\n",
    "            self.trees[tree_ind].fit(X[data_sample],y[data_sample])\n",
    "            \n",
    "    def predict_proba(self, X):\n",
    "        predictions = [tree.predict(X) for tree in self.trees]\n",
    "        return np.array(predictions).mean(axis=0)\n",
    "    \n",
    "    def predict(self, X):\n",
    "        probas = self.predict_proba(X)\n",
    "        return (probas>=.5).astype(int)"
   ]
  },
  {
   "cell_type": "code",
   "execution_count": 426,
   "id": "856b7a6e",
   "metadata": {
    "ExecuteTime": {
     "end_time": "2021-06-20T22:27:14.767801Z",
     "start_time": "2021-06-20T22:27:08.510312Z"
    }
   },
   "outputs": [
    {
     "data": {
      "application/vnd.jupyter.widget-view+json": {
       "model_id": "926fd7676ec44fc8b0a349800ca69a46",
       "version_major": 2,
       "version_minor": 0
      },
      "text/plain": [
       "Treinando árvores de decisão:   0%|          | 0/100 [00:00<?, ?it/s]"
      ]
     },
     "metadata": {},
     "output_type": "display_data"
    }
   ],
   "source": [
    "rf_model = RandomForestClassifier(m=10,n_trees=100,max_depth=10,min_samples=2)\n",
    "rf_model.fit(X_train,y_train)"
   ]
  },
  {
   "cell_type": "code",
   "execution_count": 428,
   "id": "634db9bc",
   "metadata": {
    "ExecuteTime": {
     "end_time": "2021-06-20T22:27:49.663913Z",
     "start_time": "2021-06-20T22:27:31.031912Z"
    }
   },
   "outputs": [
    {
     "data": {
      "text/plain": [
       "(array([0, 1]), array([33858,   331], dtype=int64))"
      ]
     },
     "execution_count": 428,
     "metadata": {},
     "output_type": "execute_result"
    }
   ],
   "source": [
    "np.unique(rf_model.predict(X_train),return_counts=1)"
   ]
  },
  {
   "cell_type": "code",
   "execution_count": 429,
   "id": "7668240a",
   "metadata": {
    "ExecuteTime": {
     "end_time": "2021-06-20T22:27:49.682572Z",
     "start_time": "2021-06-20T22:27:49.666662Z"
    }
   },
   "outputs": [
    {
     "data": {
      "text/plain": [
       "(array([0, 1]), array([25955,  8234], dtype=int64))"
      ]
     },
     "execution_count": 429,
     "metadata": {},
     "output_type": "execute_result"
    }
   ],
   "source": [
    "np.unique(y_train,return_counts=1)"
   ]
  },
  {
   "cell_type": "code",
   "execution_count": null,
   "id": "5970bae5",
   "metadata": {},
   "outputs": [],
   "source": []
  }
 ],
 "metadata": {
  "kernelspec": {
   "display_name": "Python 3",
   "language": "python",
   "name": "python3"
  },
  "language_info": {
   "codemirror_mode": {
    "name": "ipython",
    "version": 3
   },
   "file_extension": ".py",
   "mimetype": "text/x-python",
   "name": "python",
   "nbconvert_exporter": "python",
   "pygments_lexer": "ipython3",
   "version": "3.8.8"
  },
  "toc": {
   "base_numbering": 1,
   "nav_menu": {
    "height": "66px",
    "width": "204px"
   },
   "number_sections": true,
   "sideBar": true,
   "skip_h1_title": false,
   "title_cell": "Table of Contents",
   "title_sidebar": "Contents",
   "toc_cell": false,
   "toc_position": {
    "height": "calc(100% - 180px)",
    "left": "10px",
    "top": "150px",
    "width": "165px"
   },
   "toc_section_display": true,
   "toc_window_display": true
  }
 },
 "nbformat": 4,
 "nbformat_minor": 5
}
